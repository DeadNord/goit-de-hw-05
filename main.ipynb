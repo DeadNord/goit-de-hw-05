{
 "cells": [
  {
   "cell_type": "markdown",
   "metadata": {},
   "source": [
    "# Step 1: Imports, Configuration and Setup"
   ]
  },
  {
   "cell_type": "code",
   "execution_count": 1,
   "metadata": {},
   "outputs": [],
   "source": [
    "from kafka.admin import KafkaAdminClient, NewTopic\n",
    "from kafka import KafkaProducer, KafkaConsumer\n",
    "import json\n",
    "import time\n",
    "import random\n",
    "from datetime import datetime, timezone\n",
    "import threading\n",
    "import logging\n",
    "import colorlog"
   ]
  },
  {
   "cell_type": "code",
   "execution_count": 2,
   "metadata": {},
   "outputs": [],
   "source": [
    "# Configure color logging\n",
    "handler = colorlog.StreamHandler()\n",
    "handler.setFormatter(colorlog.ColoredFormatter(\n",
    "    \"%(log_color)s%(asctime)s - %(name)s - %(levelname)s - %(message)s\",\n",
    "    datefmt='%Y-%m-%d %H:%M:%S',\n",
    "    log_colors={\n",
    "        'DEBUG': 'cyan',\n",
    "        'INFO': 'green',\n",
    "        'WARNING': 'yellow',\n",
    "        'ERROR': 'red',\n",
    "        'CRITICAL': 'bold_red',\n",
    "    }\n",
    "))\n",
    "\n",
    "logger = logging.getLogger('KafkaLogger')\n",
    "logger.addHandler(handler)\n",
    "logger.setLevel(logging.DEBUG)"
   ]
  },
  {
   "cell_type": "markdown",
   "metadata": {},
   "source": [
    "# Step 2: Kafka Configuration"
   ]
  },
  {
   "cell_type": "code",
   "execution_count": 3,
   "metadata": {},
   "outputs": [],
   "source": [
    "# Kafka configuration\n",
    "kafka_config = {\n",
    "    \"bootstrap_servers\": ['77.81.230.104:9092'],\n",
    "    \"username\": 'admin',\n",
    "    \"password\": 'VawEzo1ikLtrA8Ug8THa',\n",
    "    \"security_protocol\": 'SASL_PLAINTEXT',\n",
    "    \"sasl_mechanism\": 'PLAIN'\n",
    "}\n",
    "\n",
    "# Producer and consumer common configurations\n",
    "common_consumer_config = {\n",
    "    'bootstrap_servers': kafka_config['bootstrap_servers'],\n",
    "    'security_protocol': kafka_config['security_protocol'],\n",
    "    'sasl_mechanism': kafka_config['sasl_mechanism'],\n",
    "    'sasl_plain_username': kafka_config['username'],\n",
    "    'sasl_plain_password': kafka_config['password'],\n",
    "    'value_deserializer': lambda m: json.loads(m.decode('utf-8')),\n",
    "    'auto_offset_reset': 'earliest',\n",
    "    'enable_auto_commit': True,\n",
    "}\n",
    "\n",
    "common_producer_config = {\n",
    "    'bootstrap_servers': kafka_config['bootstrap_servers'],\n",
    "    'security_protocol': kafka_config['security_protocol'],\n",
    "    'sasl_mechanism': kafka_config['sasl_mechanism'],\n",
    "    'sasl_plain_username': kafka_config['username'],\n",
    "    'sasl_plain_password': kafka_config['password'],\n",
    "    'value_serializer': lambda v: json.dumps(v).encode('utf-8'),\n",
    "}"
   ]
  },
  {
   "cell_type": "code",
   "execution_count": 4,
   "metadata": {},
   "outputs": [],
   "source": [
    "unique_id = 'goit_goit_de_hw_05'\n",
    "topic_building_sensors = f'building_sensors_{unique_id}'\n",
    "topic_temperature_alerts = f'temperature_alerts_{unique_id}'\n",
    "topic_humidity_alerts = f'humidity_alerts_{unique_id}'"
   ]
  },
  {
   "cell_type": "markdown",
   "metadata": {},
   "source": [
    "# Step 3: Create Topics in Kafka"
   ]
  },
  {
   "cell_type": "code",
   "execution_count": 5,
   "metadata": {},
   "outputs": [
    {
     "name": "stderr",
     "output_type": "stream",
     "text": [
      "\u001b[32m2024-11-21 18:46:41 - KafkaLogger - INFO - Creating KafkaAdminClient...\u001b[0m\n",
      "\u001b[32m2024-11-21 18:46:42 - KafkaLogger - INFO - KafkaAdminClient successfully created.\u001b[0m\n",
      "\u001b[32m2024-11-21 18:46:42 - KafkaLogger - INFO - Successfully fetched the list of existing topics.\u001b[0m\n",
      "\u001b[32m2024-11-21 18:46:42 - KafkaLogger - INFO - Topic 'building_sensors_goit_goit_de_hw_05' already exists, skipping creation.\u001b[0m\n",
      "\u001b[32m2024-11-21 18:46:42 - KafkaLogger - INFO - Topic 'temperature_alerts_goit_goit_de_hw_05' already exists, skipping creation.\u001b[0m\n",
      "\u001b[32m2024-11-21 18:46:42 - KafkaLogger - INFO - Topic 'humidity_alerts_goit_goit_de_hw_05' already exists, skipping creation.\u001b[0m\n",
      "\u001b[32m2024-11-21 18:46:42 - KafkaLogger - INFO - All topics already exist, no new topics need to be created.\u001b[0m\n"
     ]
    }
   ],
   "source": [
    "# Define topic names with a unique identifier\n",
    "topics = [topic_building_sensors, topic_temperature_alerts, topic_humidity_alerts]\n",
    "\n",
    "# Create KafkaAdminClient\n",
    "try:\n",
    "    logger.info(\"Creating KafkaAdminClient...\")\n",
    "    admin_client = KafkaAdminClient(\n",
    "        bootstrap_servers=kafka_config['bootstrap_servers'],\n",
    "        security_protocol=kafka_config['security_protocol'],\n",
    "        sasl_mechanism=kafka_config['sasl_mechanism'],\n",
    "        sasl_plain_username=kafka_config['username'],\n",
    "        sasl_plain_password=kafka_config['password'],\n",
    "        client_id='admin_client'\n",
    "    )\n",
    "    logger.info(\"KafkaAdminClient successfully created.\")\n",
    "except Exception as e:\n",
    "    logger.critical(f\"Error creating KafkaAdminClient: {e}\")\n",
    "    raise\n",
    "\n",
    "# Get a list of existing topics\n",
    "try:\n",
    "    existing_topics = admin_client.list_topics()\n",
    "    logger.info(\"Successfully fetched the list of existing topics.\")\n",
    "except Exception as e:\n",
    "    logger.error(f\"Error fetching the list of topics: {e}\")\n",
    "    raise\n",
    "\n",
    "# Create only those topics that do not already exist\n",
    "topic_list = []\n",
    "for topic_name in topics:\n",
    "    if topic_name not in existing_topics:\n",
    "        topic = NewTopic(name=topic_name, num_partitions=1, replication_factor=1)\n",
    "        topic_list.append(topic)\n",
    "    else:\n",
    "        logger.info(f\"Topic '{topic_name}' already exists, skipping creation.\")\n",
    "\n",
    "if topic_list:\n",
    "    try:\n",
    "        logger.info(\"Attempting to create new topics...\")\n",
    "        admin_client.create_topics(new_topics=topic_list, validate_only=False)\n",
    "        logger.info(\"Topics successfully created:\")\n",
    "        for topic in topic_list:\n",
    "            logger.info(f\"- {topic.name}\")\n",
    "    except Exception as e:\n",
    "        logger.error(f\"Error creating topics: {e}\")\n",
    "else:\n",
    "    logger.info(\"All topics already exist, no new topics need to be created.\")"
   ]
  },
  {
   "cell_type": "markdown",
   "metadata": {},
   "source": [
    "# Step 4: Sensor Simulation"
   ]
  },
  {
   "cell_type": "code",
   "execution_count": 6,
   "metadata": {},
   "outputs": [],
   "source": [
    "# Sensor simulation\n",
    "def sensor_simulation(sensor_id, topic_name):\n",
    "    producer = KafkaProducer(**common_producer_config)\n",
    "\n",
    "    try:\n",
    "        while True:\n",
    "            # Generate random temperature and humidity values\n",
    "            temperature = random.uniform(25, 45)\n",
    "            humidity = random.uniform(15, 85)\n",
    "            timestamp = datetime.now(timezone.utc).isoformat()\n",
    "\n",
    "            # Create a message\n",
    "            data = {\n",
    "                \"sensor_id\": sensor_id,\n",
    "                \"timestamp\": timestamp,\n",
    "                \"temperature\": round(temperature, 2),\n",
    "                \"humidity\": round(humidity, 2),\n",
    "            }\n",
    "\n",
    "            # Send the message to the topic\n",
    "            producer.send(topic_name, value=data)\n",
    "            logger.info(f\"Message sent from sensor {sensor_id}: {data}\")\n",
    "\n",
    "            # Wait before sending the next message\n",
    "            time.sleep(10)\n",
    "    except KeyboardInterrupt:\n",
    "        logger.warning(f\"Simulation for sensor {sensor_id} stopped.\")\n",
    "    finally:\n",
    "        producer.close()"
   ]
  },
  {
   "cell_type": "markdown",
   "metadata": {},
   "source": [
    "# Step 5: Start Sensor Simulations"
   ]
  },
  {
   "cell_type": "code",
   "execution_count": null,
   "metadata": {},
   "outputs": [
    {
     "name": "stderr",
     "output_type": "stream",
     "text": [
      "\u001b[32m2024-11-21 18:46:42 - KafkaLogger - INFO - Starting 3 sensor simulations with IDs: [2886, 1228, 4479]\u001b[0m\n"
     ]
    },
    {
     "name": "stderr",
     "output_type": "stream",
     "text": [
      "\u001b[32m2024-11-21 18:46:42 - KafkaLogger - INFO - Message sent from sensor 2886: {'sensor_id': 2886, 'timestamp': '2024-11-21T17:46:42.716764+00:00', 'temperature': 33.18, 'humidity': 20.13}\u001b[0m\n",
      "\u001b[32m2024-11-21 18:46:42 - KafkaLogger - INFO - Message sent from sensor 1228: {'sensor_id': 1228, 'timestamp': '2024-11-21T17:46:42.722758+00:00', 'temperature': 37.71, 'humidity': 19.87}\u001b[0m\n",
      "\u001b[32m2024-11-21 18:46:42 - KafkaLogger - INFO - Message sent from sensor 4479: {'sensor_id': 4479, 'timestamp': '2024-11-21T17:46:42.727259+00:00', 'temperature': 27.92, 'humidity': 44.15}\u001b[0m\n",
      "\u001b[32m2024-11-21 18:46:52 - KafkaLogger - INFO - Message sent from sensor 2886: {'sensor_id': 2886, 'timestamp': '2024-11-21T17:46:52.762841+00:00', 'temperature': 37.25, 'humidity': 47.17}\u001b[0m\n",
      "\u001b[32m2024-11-21 18:46:52 - KafkaLogger - INFO - Message sent from sensor 1228: {'sensor_id': 1228, 'timestamp': '2024-11-21T17:46:52.779486+00:00', 'temperature': 38.27, 'humidity': 42.39}\u001b[0m\n",
      "\u001b[32m2024-11-21 18:46:52 - KafkaLogger - INFO - Message sent from sensor 4479: {'sensor_id': 4479, 'timestamp': '2024-11-21T17:46:52.788389+00:00', 'temperature': 32.44, 'humidity': 75.02}\u001b[0m\n",
      "\u001b[32m2024-11-21 18:47:02 - KafkaLogger - INFO - Message sent from sensor 2886: {'sensor_id': 2886, 'timestamp': '2024-11-21T17:47:02.763982+00:00', 'temperature': 42.54, 'humidity': 83.12}\u001b[0m\n",
      "\u001b[32m2024-11-21 18:47:02 - KafkaLogger - INFO - Message sent from sensor 1228: {'sensor_id': 1228, 'timestamp': '2024-11-21T17:47:02.780824+00:00', 'temperature': 25.77, 'humidity': 65.01}\u001b[0m\n",
      "\u001b[32m2024-11-21 18:47:02 - KafkaLogger - INFO - Message sent from sensor 4479: {'sensor_id': 4479, 'timestamp': '2024-11-21T17:47:02.789772+00:00', 'temperature': 26.07, 'humidity': 48.65}\u001b[0m\n",
      "\u001b[32m2024-11-21 18:47:12 - KafkaLogger - INFO - Message sent from sensor 2886: {'sensor_id': 2886, 'timestamp': '2024-11-21T17:47:12.765173+00:00', 'temperature': 37.82, 'humidity': 24.53}\u001b[0m\n",
      "\u001b[32m2024-11-21 18:47:12 - KafkaLogger - INFO - Message sent from sensor 1228: {'sensor_id': 1228, 'timestamp': '2024-11-21T17:47:12.781664+00:00', 'temperature': 33.39, 'humidity': 16.84}\u001b[0m\n",
      "\u001b[32m2024-11-21 18:47:12 - KafkaLogger - INFO - Message sent from sensor 4479: {'sensor_id': 4479, 'timestamp': '2024-11-21T17:47:12.790759+00:00', 'temperature': 32.84, 'humidity': 55.88}\u001b[0m\n",
      "\u001b[32m2024-11-21 18:47:22 - KafkaLogger - INFO - Message sent from sensor 2886: {'sensor_id': 2886, 'timestamp': '2024-11-21T17:47:22.768859+00:00', 'temperature': 28.2, 'humidity': 39.34}\u001b[0m\n",
      "\u001b[32m2024-11-21 18:47:22 - KafkaLogger - INFO - Message sent from sensor 1228: {'sensor_id': 1228, 'timestamp': '2024-11-21T17:47:22.784146+00:00', 'temperature': 37.69, 'humidity': 82.76}\u001b[0m\n",
      "\u001b[32m2024-11-21 18:47:22 - KafkaLogger - INFO - Message sent from sensor 4479: {'sensor_id': 4479, 'timestamp': '2024-11-21T17:47:22.793776+00:00', 'temperature': 28.88, 'humidity': 73.96}\u001b[0m\n",
      "\u001b[32m2024-11-21 18:47:32 - KafkaLogger - INFO - Message sent from sensor 2886: {'sensor_id': 2886, 'timestamp': '2024-11-21T17:47:32.772745+00:00', 'temperature': 40.2, 'humidity': 72.31}\u001b[0m\n",
      "\u001b[32m2024-11-21 18:47:32 - KafkaLogger - INFO - Message sent from sensor 1228: {'sensor_id': 1228, 'timestamp': '2024-11-21T17:47:32.786607+00:00', 'temperature': 44.38, 'humidity': 24.76}\u001b[0m\n",
      "\u001b[32m2024-11-21 18:47:32 - KafkaLogger - INFO - Message sent from sensor 4479: {'sensor_id': 4479, 'timestamp': '2024-11-21T17:47:32.795677+00:00', 'temperature': 34.54, 'humidity': 55.51}\u001b[0m\n",
      "\u001b[32m2024-11-21 18:47:42 - KafkaLogger - INFO - Message sent from sensor 2886: {'sensor_id': 2886, 'timestamp': '2024-11-21T17:47:42.775926+00:00', 'temperature': 32.57, 'humidity': 15.42}\u001b[0m\n",
      "\u001b[32m2024-11-21 18:47:42 - KafkaLogger - INFO - Message sent from sensor 1228: {'sensor_id': 1228, 'timestamp': '2024-11-21T17:47:42.790024+00:00', 'temperature': 38.54, 'humidity': 29.94}\u001b[0m\n",
      "\u001b[32m2024-11-21 18:47:42 - KafkaLogger - INFO - Message sent from sensor 4479: {'sensor_id': 4479, 'timestamp': '2024-11-21T17:47:42.798949+00:00', 'temperature': 35.76, 'humidity': 75.5}\u001b[0m\n",
      "\u001b[32m2024-11-21 18:47:52 - KafkaLogger - INFO - Message sent from sensor 2886: {'sensor_id': 2886, 'timestamp': '2024-11-21T17:47:52.777463+00:00', 'temperature': 34.81, 'humidity': 81.38}\u001b[0m\n",
      "\u001b[32m2024-11-21 18:47:52 - KafkaLogger - INFO - Message sent from sensor 1228: {'sensor_id': 1228, 'timestamp': '2024-11-21T17:47:52.791688+00:00', 'temperature': 42.68, 'humidity': 36.71}\u001b[0m\n",
      "\u001b[32m2024-11-21 18:47:52 - KafkaLogger - INFO - Message sent from sensor 4479: {'sensor_id': 4479, 'timestamp': '2024-11-21T17:47:52.800308+00:00', 'temperature': 33.14, 'humidity': 35.98}\u001b[0m\n"
     ]
    }
   ],
   "source": [
    "# Start sensor simulations\n",
    "num_sensors = 3\n",
    "sensor_ids = random.sample(range(1000, 9999), num_sensors)\n",
    "\n",
    "logger.info(f\"Starting {num_sensors} sensor simulations with IDs: {sensor_ids}\")\n",
    "\n",
    "sensor_threads = []\n",
    "for sensor_id in sensor_ids:\n",
    "    sensor_thread = threading.Thread(target=sensor_simulation, args=(sensor_id, topic_building_sensors))\n",
    "    sensor_thread.start()\n",
    "    sensor_threads.append(sensor_thread)"
   ]
  },
  {
   "cell_type": "markdown",
   "metadata": {},
   "source": [
    "# Step 6: Data Processing"
   ]
  },
  {
   "cell_type": "code",
   "execution_count": 8,
   "metadata": {},
   "outputs": [],
   "source": [
    "# Process data from the building_sensors topic\n",
    "def data_processor(input_topic, temp_alert_topic, humidity_alert_topic):\n",
    "    consumer = KafkaConsumer(\n",
    "        input_topic, group_id=f\"data_processor_{unique_id}\", **common_consumer_config\n",
    "    )\n",
    "    producer = KafkaProducer(**common_producer_config)\n",
    "\n",
    "    try:\n",
    "        for message in consumer:\n",
    "            data = message.value\n",
    "            sensor_id = data[\"sensor_id\"]\n",
    "            temperature = data[\"temperature\"]\n",
    "            humidity = data[\"humidity\"]\n",
    "            timestamp = data[\"timestamp\"]\n",
    "\n",
    "            # Log incoming data\n",
    "            logger.info(f\"Received data from topic '{input_topic}': {data}\")\n",
    "\n",
    "            # Check temperature\n",
    "            if temperature > 40:\n",
    "                alert = {\n",
    "                    \"sensor_id\": sensor_id,\n",
    "                    \"timestamp\": timestamp,\n",
    "                    \"temperature\": temperature,\n",
    "                    \"message\": \"Temperature exceeds 40°C!\",\n",
    "                }\n",
    "                # Warning log for temperature threshold\n",
    "                logger.warning(f\"Temperature threshold exceeded for sensor {sensor_id}: {temperature}°C\")\n",
    "                producer.send(temp_alert_topic, value=alert)\n",
    "                logger.info(f\"Temperature alert sent to topic '{temp_alert_topic}': {alert}\")\n",
    "\n",
    "            # Check humidity\n",
    "            if humidity > 80 or humidity < 20:\n",
    "                alert = {\n",
    "                    \"sensor_id\": sensor_id,\n",
    "                    \"timestamp\": timestamp,\n",
    "                    \"humidity\": humidity,\n",
    "                    \"message\": \"Humidity out of range (20%-80%)!\",\n",
    "                }\n",
    "                # Warning log for humidity threshold\n",
    "                logger.warning(f\"Humidity threshold exceeded for sensor {sensor_id}: {humidity}%\")\n",
    "                producer.send(humidity_alert_topic, value=alert)\n",
    "                logger.info(f\"Humidity alert sent to topic '{humidity_alert_topic}': {alert}\")\n",
    "\n",
    "    except KeyboardInterrupt:\n",
    "        logger.warning(\"Data processing stopped.\")\n",
    "    finally:\n",
    "        consumer.close()\n",
    "        producer.close()"
   ]
  },
  {
   "cell_type": "markdown",
   "metadata": {},
   "source": [
    "# Step 7: Start Data Processor"
   ]
  },
  {
   "cell_type": "code",
   "execution_count": null,
   "metadata": {},
   "outputs": [
    {
     "name": "stderr",
     "output_type": "stream",
     "text": [
      "\u001b[32m2024-11-21 18:46:49 - KafkaLogger - INFO - Received data from topic 'building_sensors_goit_goit_de_hw_05': {'sensor_id': 9144, 'timestamp': '2024-11-21T17:46:37.332042+00:00', 'temperature': 43.6, 'humidity': 17.87}\u001b[0m\n",
      "\u001b[33m2024-11-21 18:46:49 - KafkaLogger - WARNING - Temperature threshold exceeded for sensor 9144: 43.6°C\u001b[0m\n",
      "\u001b[32m2024-11-21 18:46:49 - KafkaLogger - INFO - Temperature alert sent to topic 'temperature_alerts_goit_goit_de_hw_05': {'sensor_id': 9144, 'timestamp': '2024-11-21T17:46:37.332042+00:00', 'temperature': 43.6, 'message': 'Temperature exceeds 40°C!'}\u001b[0m\n",
      "\u001b[33m2024-11-21 18:46:49 - KafkaLogger - WARNING - Humidity threshold exceeded for sensor 9144: 17.87%\u001b[0m\n",
      "\u001b[32m2024-11-21 18:46:49 - KafkaLogger - INFO - Humidity alert sent to topic 'humidity_alerts_goit_goit_de_hw_05': {'sensor_id': 9144, 'timestamp': '2024-11-21T17:46:37.332042+00:00', 'humidity': 17.87, 'message': 'Humidity out of range (20%-80%)!'}\u001b[0m\n",
      "\u001b[32m2024-11-21 18:46:49 - KafkaLogger - INFO - Received data from topic 'building_sensors_goit_goit_de_hw_05': {'sensor_id': 5774, 'timestamp': '2024-11-21T17:46:37.333598+00:00', 'temperature': 31.58, 'humidity': 23.02}\u001b[0m\n",
      "\u001b[32m2024-11-21 18:46:49 - KafkaLogger - INFO - Received data from topic 'building_sensors_goit_goit_de_hw_05': {'sensor_id': 9141, 'timestamp': '2024-11-21T17:46:37.476248+00:00', 'temperature': 42.72, 'humidity': 47.31}\u001b[0m\n",
      "\u001b[33m2024-11-21 18:46:49 - KafkaLogger - WARNING - Temperature threshold exceeded for sensor 9141: 42.72°C\u001b[0m\n",
      "\u001b[32m2024-11-21 18:46:49 - KafkaLogger - INFO - Temperature alert sent to topic 'temperature_alerts_goit_goit_de_hw_05': {'sensor_id': 9141, 'timestamp': '2024-11-21T17:46:37.476248+00:00', 'temperature': 42.72, 'message': 'Temperature exceeds 40°C!'}\u001b[0m\n",
      "\u001b[32m2024-11-21 18:46:49 - KafkaLogger - INFO - Received data from topic 'building_sensors_goit_goit_de_hw_05': {'sensor_id': 2886, 'timestamp': '2024-11-21T17:46:42.716764+00:00', 'temperature': 33.18, 'humidity': 20.13}\u001b[0m\n",
      "\u001b[32m2024-11-21 18:46:49 - KafkaLogger - INFO - Received data from topic 'building_sensors_goit_goit_de_hw_05': {'sensor_id': 1228, 'timestamp': '2024-11-21T17:46:42.722758+00:00', 'temperature': 37.71, 'humidity': 19.87}\u001b[0m\n",
      "\u001b[33m2024-11-21 18:46:49 - KafkaLogger - WARNING - Humidity threshold exceeded for sensor 1228: 19.87%\u001b[0m\n",
      "\u001b[32m2024-11-21 18:46:49 - KafkaLogger - INFO - Humidity alert sent to topic 'humidity_alerts_goit_goit_de_hw_05': {'sensor_id': 1228, 'timestamp': '2024-11-21T17:46:42.722758+00:00', 'humidity': 19.87, 'message': 'Humidity out of range (20%-80%)!'}\u001b[0m\n",
      "\u001b[32m2024-11-21 18:46:49 - KafkaLogger - INFO - Received data from topic 'building_sensors_goit_goit_de_hw_05': {'sensor_id': 4479, 'timestamp': '2024-11-21T17:46:42.727259+00:00', 'temperature': 27.92, 'humidity': 44.15}\u001b[0m\n",
      "\u001b[32m2024-11-21 18:46:52 - KafkaLogger - INFO - Received data from topic 'building_sensors_goit_goit_de_hw_05': {'sensor_id': 2886, 'timestamp': '2024-11-21T17:46:52.762841+00:00', 'temperature': 37.25, 'humidity': 47.17}\u001b[0m\n",
      "\u001b[32m2024-11-21 18:46:52 - KafkaLogger - INFO - Received data from topic 'building_sensors_goit_goit_de_hw_05': {'sensor_id': 1228, 'timestamp': '2024-11-21T17:46:52.779486+00:00', 'temperature': 38.27, 'humidity': 42.39}\u001b[0m\n",
      "\u001b[32m2024-11-21 18:46:52 - KafkaLogger - INFO - Received data from topic 'building_sensors_goit_goit_de_hw_05': {'sensor_id': 4479, 'timestamp': '2024-11-21T17:46:52.788389+00:00', 'temperature': 32.44, 'humidity': 75.02}\u001b[0m\n",
      "\u001b[32m2024-11-21 18:47:02 - KafkaLogger - INFO - Received data from topic 'building_sensors_goit_goit_de_hw_05': {'sensor_id': 2886, 'timestamp': '2024-11-21T17:47:02.763982+00:00', 'temperature': 42.54, 'humidity': 83.12}\u001b[0m\n",
      "\u001b[33m2024-11-21 18:47:02 - KafkaLogger - WARNING - Temperature threshold exceeded for sensor 2886: 42.54°C\u001b[0m\n",
      "\u001b[32m2024-11-21 18:47:02 - KafkaLogger - INFO - Temperature alert sent to topic 'temperature_alerts_goit_goit_de_hw_05': {'sensor_id': 2886, 'timestamp': '2024-11-21T17:47:02.763982+00:00', 'temperature': 42.54, 'message': 'Temperature exceeds 40°C!'}\u001b[0m\n",
      "\u001b[33m2024-11-21 18:47:02 - KafkaLogger - WARNING - Humidity threshold exceeded for sensor 2886: 83.12%\u001b[0m\n",
      "\u001b[32m2024-11-21 18:47:02 - KafkaLogger - INFO - Humidity alert sent to topic 'humidity_alerts_goit_goit_de_hw_05': {'sensor_id': 2886, 'timestamp': '2024-11-21T17:47:02.763982+00:00', 'humidity': 83.12, 'message': 'Humidity out of range (20%-80%)!'}\u001b[0m\n",
      "\u001b[32m2024-11-21 18:47:02 - KafkaLogger - INFO - Received data from topic 'building_sensors_goit_goit_de_hw_05': {'sensor_id': 1228, 'timestamp': '2024-11-21T17:47:02.780824+00:00', 'temperature': 25.77, 'humidity': 65.01}\u001b[0m\n",
      "\u001b[32m2024-11-21 18:47:02 - KafkaLogger - INFO - Received data from topic 'building_sensors_goit_goit_de_hw_05': {'sensor_id': 4479, 'timestamp': '2024-11-21T17:47:02.789772+00:00', 'temperature': 26.07, 'humidity': 48.65}\u001b[0m\n",
      "\u001b[32m2024-11-21 18:47:12 - KafkaLogger - INFO - Received data from topic 'building_sensors_goit_goit_de_hw_05': {'sensor_id': 2886, 'timestamp': '2024-11-21T17:47:12.765173+00:00', 'temperature': 37.82, 'humidity': 24.53}\u001b[0m\n",
      "\u001b[32m2024-11-21 18:47:12 - KafkaLogger - INFO - Received data from topic 'building_sensors_goit_goit_de_hw_05': {'sensor_id': 1228, 'timestamp': '2024-11-21T17:47:12.781664+00:00', 'temperature': 33.39, 'humidity': 16.84}\u001b[0m\n",
      "\u001b[33m2024-11-21 18:47:12 - KafkaLogger - WARNING - Humidity threshold exceeded for sensor 1228: 16.84%\u001b[0m\n",
      "\u001b[32m2024-11-21 18:47:12 - KafkaLogger - INFO - Humidity alert sent to topic 'humidity_alerts_goit_goit_de_hw_05': {'sensor_id': 1228, 'timestamp': '2024-11-21T17:47:12.781664+00:00', 'humidity': 16.84, 'message': 'Humidity out of range (20%-80%)!'}\u001b[0m\n",
      "\u001b[32m2024-11-21 18:47:12 - KafkaLogger - INFO - Received data from topic 'building_sensors_goit_goit_de_hw_05': {'sensor_id': 4479, 'timestamp': '2024-11-21T17:47:12.790759+00:00', 'temperature': 32.84, 'humidity': 55.88}\u001b[0m\n",
      "\u001b[32m2024-11-21 18:47:22 - KafkaLogger - INFO - Received data from topic 'building_sensors_goit_goit_de_hw_05': {'sensor_id': 2886, 'timestamp': '2024-11-21T17:47:22.768859+00:00', 'temperature': 28.2, 'humidity': 39.34}\u001b[0m\n",
      "\u001b[32m2024-11-21 18:47:22 - KafkaLogger - INFO - Received data from topic 'building_sensors_goit_goit_de_hw_05': {'sensor_id': 1228, 'timestamp': '2024-11-21T17:47:22.784146+00:00', 'temperature': 37.69, 'humidity': 82.76}\u001b[0m\n",
      "\u001b[33m2024-11-21 18:47:22 - KafkaLogger - WARNING - Humidity threshold exceeded for sensor 1228: 82.76%\u001b[0m\n",
      "\u001b[32m2024-11-21 18:47:22 - KafkaLogger - INFO - Humidity alert sent to topic 'humidity_alerts_goit_goit_de_hw_05': {'sensor_id': 1228, 'timestamp': '2024-11-21T17:47:22.784146+00:00', 'humidity': 82.76, 'message': 'Humidity out of range (20%-80%)!'}\u001b[0m\n",
      "\u001b[32m2024-11-21 18:47:22 - KafkaLogger - INFO - Received data from topic 'building_sensors_goit_goit_de_hw_05': {'sensor_id': 4479, 'timestamp': '2024-11-21T17:47:22.793776+00:00', 'temperature': 28.88, 'humidity': 73.96}\u001b[0m\n",
      "\u001b[32m2024-11-21 18:47:32 - KafkaLogger - INFO - Received data from topic 'building_sensors_goit_goit_de_hw_05': {'sensor_id': 2886, 'timestamp': '2024-11-21T17:47:32.772745+00:00', 'temperature': 40.2, 'humidity': 72.31}\u001b[0m\n",
      "\u001b[33m2024-11-21 18:47:32 - KafkaLogger - WARNING - Temperature threshold exceeded for sensor 2886: 40.2°C\u001b[0m\n",
      "\u001b[32m2024-11-21 18:47:32 - KafkaLogger - INFO - Temperature alert sent to topic 'temperature_alerts_goit_goit_de_hw_05': {'sensor_id': 2886, 'timestamp': '2024-11-21T17:47:32.772745+00:00', 'temperature': 40.2, 'message': 'Temperature exceeds 40°C!'}\u001b[0m\n",
      "\u001b[32m2024-11-21 18:47:32 - KafkaLogger - INFO - Received data from topic 'building_sensors_goit_goit_de_hw_05': {'sensor_id': 4479, 'timestamp': '2024-11-21T17:47:32.795677+00:00', 'temperature': 34.54, 'humidity': 55.51}\u001b[0m\n",
      "\u001b[32m2024-11-21 18:47:32 - KafkaLogger - INFO - Received data from topic 'building_sensors_goit_goit_de_hw_05': {'sensor_id': 1228, 'timestamp': '2024-11-21T17:47:32.786607+00:00', 'temperature': 44.38, 'humidity': 24.76}\u001b[0m\n",
      "\u001b[33m2024-11-21 18:47:32 - KafkaLogger - WARNING - Temperature threshold exceeded for sensor 1228: 44.38°C\u001b[0m\n",
      "\u001b[32m2024-11-21 18:47:32 - KafkaLogger - INFO - Temperature alert sent to topic 'temperature_alerts_goit_goit_de_hw_05': {'sensor_id': 1228, 'timestamp': '2024-11-21T17:47:32.786607+00:00', 'temperature': 44.38, 'message': 'Temperature exceeds 40°C!'}\u001b[0m\n",
      "\u001b[32m2024-11-21 18:47:42 - KafkaLogger - INFO - Received data from topic 'building_sensors_goit_goit_de_hw_05': {'sensor_id': 2886, 'timestamp': '2024-11-21T17:47:42.775926+00:00', 'temperature': 32.57, 'humidity': 15.42}\u001b[0m\n",
      "\u001b[33m2024-11-21 18:47:42 - KafkaLogger - WARNING - Humidity threshold exceeded for sensor 2886: 15.42%\u001b[0m\n",
      "\u001b[32m2024-11-21 18:47:42 - KafkaLogger - INFO - Humidity alert sent to topic 'humidity_alerts_goit_goit_de_hw_05': {'sensor_id': 2886, 'timestamp': '2024-11-21T17:47:42.775926+00:00', 'humidity': 15.42, 'message': 'Humidity out of range (20%-80%)!'}\u001b[0m\n",
      "\u001b[32m2024-11-21 18:47:42 - KafkaLogger - INFO - Received data from topic 'building_sensors_goit_goit_de_hw_05': {'sensor_id': 1228, 'timestamp': '2024-11-21T17:47:42.790024+00:00', 'temperature': 38.54, 'humidity': 29.94}\u001b[0m\n",
      "\u001b[32m2024-11-21 18:47:42 - KafkaLogger - INFO - Received data from topic 'building_sensors_goit_goit_de_hw_05': {'sensor_id': 4479, 'timestamp': '2024-11-21T17:47:42.798949+00:00', 'temperature': 35.76, 'humidity': 75.5}\u001b[0m\n",
      "\u001b[32m2024-11-21 18:47:52 - KafkaLogger - INFO - Received data from topic 'building_sensors_goit_goit_de_hw_05': {'sensor_id': 2886, 'timestamp': '2024-11-21T17:47:52.777463+00:00', 'temperature': 34.81, 'humidity': 81.38}\u001b[0m\n",
      "\u001b[33m2024-11-21 18:47:52 - KafkaLogger - WARNING - Humidity threshold exceeded for sensor 2886: 81.38%\u001b[0m\n",
      "\u001b[32m2024-11-21 18:47:52 - KafkaLogger - INFO - Humidity alert sent to topic 'humidity_alerts_goit_goit_de_hw_05': {'sensor_id': 2886, 'timestamp': '2024-11-21T17:47:52.777463+00:00', 'humidity': 81.38, 'message': 'Humidity out of range (20%-80%)!'}\u001b[0m\n",
      "\u001b[32m2024-11-21 18:47:52 - KafkaLogger - INFO - Received data from topic 'building_sensors_goit_goit_de_hw_05': {'sensor_id': 1228, 'timestamp': '2024-11-21T17:47:52.791688+00:00', 'temperature': 42.68, 'humidity': 36.71}\u001b[0m\n",
      "\u001b[33m2024-11-21 18:47:52 - KafkaLogger - WARNING - Temperature threshold exceeded for sensor 1228: 42.68°C\u001b[0m\n",
      "\u001b[32m2024-11-21 18:47:52 - KafkaLogger - INFO - Temperature alert sent to topic 'temperature_alerts_goit_goit_de_hw_05': {'sensor_id': 1228, 'timestamp': '2024-11-21T17:47:52.791688+00:00', 'temperature': 42.68, 'message': 'Temperature exceeds 40°C!'}\u001b[0m\n",
      "\u001b[32m2024-11-21 18:47:52 - KafkaLogger - INFO - Received data from topic 'building_sensors_goit_goit_de_hw_05': {'sensor_id': 4479, 'timestamp': '2024-11-21T17:47:52.800308+00:00', 'temperature': 33.14, 'humidity': 35.98}\u001b[0m\n"
     ]
    }
   ],
   "source": [
    "# Start the data processor\n",
    "input_topic = topic_building_sensors\n",
    "temp_alert_topic = topic_temperature_alerts\n",
    "humidity_alert_topic = topic_humidity_alerts\n",
    "\n",
    "# Launch the data processor in a separate thread\n",
    "processor_thread = threading.Thread(target=data_processor, args=(input_topic, temp_alert_topic, humidity_alert_topic))\n",
    "processor_thread.start()"
   ]
  },
  {
   "cell_type": "markdown",
   "metadata": {},
   "source": [
    "# Step 8: Alert Listener"
   ]
  },
  {
   "cell_type": "code",
   "execution_count": 10,
   "metadata": {},
   "outputs": [],
   "source": [
    "# Read alerts from temperature_alerts and humidity_alerts topics\n",
    "def alert_listener(temp_alert_topic, humidity_alert_topic):\n",
    "    consumer = KafkaConsumer(\n",
    "        temp_alert_topic,\n",
    "        humidity_alert_topic,\n",
    "        group_id=f\"alert_listener_{unique_id}\",\n",
    "        **common_consumer_config,\n",
    "    )\n",
    "\n",
    "    try:\n",
    "        for message in consumer:\n",
    "            alert = message.value\n",
    "            logger.info(f\"Alert received from topic '{message.topic}': {alert}\")\n",
    "    except KeyboardInterrupt:\n",
    "        logger.warning(\"Alert reading stopped.\")\n",
    "    finally:\n",
    "        consumer.close()"
   ]
  },
  {
   "cell_type": "markdown",
   "metadata": {},
   "source": [
    "# Start 9: Start Alert Listener"
   ]
  },
  {
   "cell_type": "code",
   "execution_count": null,
   "metadata": {},
   "outputs": [
    {
     "name": "stderr",
     "output_type": "stream",
     "text": [
      "\u001b[32m2024-11-21 18:46:49 - KafkaLogger - INFO - Alert received from topic 'humidity_alerts_goit_goit_de_hw_05': {'sensor_id': 9144, 'timestamp': '2024-11-21T17:46:37.332042+00:00', 'humidity': 17.87, 'message': 'Humidity out of range (20%-80%)!'}\u001b[0m\n",
      "\u001b[32m2024-11-21 18:46:49 - KafkaLogger - INFO - Alert received from topic 'temperature_alerts_goit_goit_de_hw_05': {'sensor_id': 9144, 'timestamp': '2024-11-21T17:46:37.332042+00:00', 'temperature': 43.6, 'message': 'Temperature exceeds 40°C!'}\u001b[0m\n",
      "\u001b[32m2024-11-21 18:46:49 - KafkaLogger - INFO - Alert received from topic 'temperature_alerts_goit_goit_de_hw_05': {'sensor_id': 9141, 'timestamp': '2024-11-21T17:46:37.476248+00:00', 'temperature': 42.72, 'message': 'Temperature exceeds 40°C!'}\u001b[0m\n",
      "\u001b[32m2024-11-21 18:46:49 - KafkaLogger - INFO - Alert received from topic 'humidity_alerts_goit_goit_de_hw_05': {'sensor_id': 9144, 'timestamp': '2024-11-21T17:46:37.332042+00:00', 'humidity': 17.87, 'message': 'Humidity out of range (20%-80%)!'}\u001b[0m\n",
      "\u001b[32m2024-11-21 18:46:49 - KafkaLogger - INFO - Alert received from topic 'humidity_alerts_goit_goit_de_hw_05': {'sensor_id': 1228, 'timestamp': '2024-11-21T17:46:42.722758+00:00', 'humidity': 19.87, 'message': 'Humidity out of range (20%-80%)!'}\u001b[0m\n",
      "\u001b[32m2024-11-21 18:46:49 - KafkaLogger - INFO - Alert received from topic 'temperature_alerts_goit_goit_de_hw_05': {'sensor_id': 9144, 'timestamp': '2024-11-21T17:46:37.332042+00:00', 'temperature': 43.6, 'message': 'Temperature exceeds 40°C!'}\u001b[0m\n",
      "\u001b[32m2024-11-21 18:46:49 - KafkaLogger - INFO - Alert received from topic 'temperature_alerts_goit_goit_de_hw_05': {'sensor_id': 9141, 'timestamp': '2024-11-21T17:46:37.476248+00:00', 'temperature': 42.72, 'message': 'Temperature exceeds 40°C!'}\u001b[0m\n",
      "\u001b[32m2024-11-21 18:47:02 - KafkaLogger - INFO - Alert received from topic 'temperature_alerts_goit_goit_de_hw_05': {'sensor_id': 2886, 'timestamp': '2024-11-21T17:47:02.763982+00:00', 'temperature': 42.54, 'message': 'Temperature exceeds 40°C!'}\u001b[0m\n",
      "\u001b[32m2024-11-21 18:47:02 - KafkaLogger - INFO - Alert received from topic 'humidity_alerts_goit_goit_de_hw_05': {'sensor_id': 2886, 'timestamp': '2024-11-21T17:47:02.763982+00:00', 'humidity': 83.12, 'message': 'Humidity out of range (20%-80%)!'}\u001b[0m\n",
      "\u001b[32m2024-11-21 18:47:12 - KafkaLogger - INFO - Alert received from topic 'humidity_alerts_goit_goit_de_hw_05': {'sensor_id': 1228, 'timestamp': '2024-11-21T17:47:12.781664+00:00', 'humidity': 16.84, 'message': 'Humidity out of range (20%-80%)!'}\u001b[0m\n",
      "\u001b[32m2024-11-21 18:47:22 - KafkaLogger - INFO - Alert received from topic 'humidity_alerts_goit_goit_de_hw_05': {'sensor_id': 1228, 'timestamp': '2024-11-21T17:47:22.784146+00:00', 'humidity': 82.76, 'message': 'Humidity out of range (20%-80%)!'}\u001b[0m\n",
      "\u001b[32m2024-11-21 18:47:32 - KafkaLogger - INFO - Alert received from topic 'temperature_alerts_goit_goit_de_hw_05': {'sensor_id': 2886, 'timestamp': '2024-11-21T17:47:32.772745+00:00', 'temperature': 40.2, 'message': 'Temperature exceeds 40°C!'}\u001b[0m\n",
      "\u001b[32m2024-11-21 18:47:32 - KafkaLogger - INFO - Alert received from topic 'temperature_alerts_goit_goit_de_hw_05': {'sensor_id': 1228, 'timestamp': '2024-11-21T17:47:32.786607+00:00', 'temperature': 44.38, 'message': 'Temperature exceeds 40°C!'}\u001b[0m\n",
      "\u001b[32m2024-11-21 18:47:42 - KafkaLogger - INFO - Alert received from topic 'humidity_alerts_goit_goit_de_hw_05': {'sensor_id': 2886, 'timestamp': '2024-11-21T17:47:42.775926+00:00', 'humidity': 15.42, 'message': 'Humidity out of range (20%-80%)!'}\u001b[0m\n",
      "\u001b[32m2024-11-21 18:47:52 - KafkaLogger - INFO - Alert received from topic 'humidity_alerts_goit_goit_de_hw_05': {'sensor_id': 2886, 'timestamp': '2024-11-21T17:47:52.777463+00:00', 'humidity': 81.38, 'message': 'Humidity out of range (20%-80%)!'}\u001b[0m\n",
      "\u001b[32m2024-11-21 18:47:52 - KafkaLogger - INFO - Alert received from topic 'temperature_alerts_goit_goit_de_hw_05': {'sensor_id': 1228, 'timestamp': '2024-11-21T17:47:52.791688+00:00', 'temperature': 42.68, 'message': 'Temperature exceeds 40°C!'}\u001b[0m\n"
     ]
    }
   ],
   "source": [
    "# Start the alert listener\n",
    "temp_alert_topic = topic_temperature_alerts\n",
    "humidity_alert_topic = topic_humidity_alerts\n",
    "\n",
    "# Launch the alert listener in a separate thread\n",
    "listener_thread = threading.Thread(target=alert_listener, args=(temp_alert_topic, humidity_alert_topic))\n",
    "listener_thread.start()"
   ]
  },
  {
   "cell_type": "markdown",
   "metadata": {},
   "source": [
    "# Step 10: List Topics with Unique Identifier"
   ]
  },
  {
   "cell_type": "code",
   "execution_count": 12,
   "metadata": {},
   "outputs": [
    {
     "name": "stderr",
     "output_type": "stream",
     "text": [
      "\u001b[32m2024-11-21 18:46:42 - KafkaLogger - INFO - List of topics:\u001b[0m\n",
      "\u001b[32m2024-11-21 18:46:42 - KafkaLogger - INFO - - temperature_alerts_goit_goit_de_hw_05\u001b[0m\n",
      "\u001b[32m2024-11-21 18:46:42 - KafkaLogger - INFO - - building_sensors_goit_goit_de_hw_05\u001b[0m\n",
      "\u001b[32m2024-11-21 18:46:42 - KafkaLogger - INFO - - humidity_alerts_goit_goit_de_hw_05\u001b[0m\n"
     ]
    }
   ],
   "source": [
    "# Display the list of topics containing the unique identifier\n",
    "topics = admin_client.list_topics()\n",
    "logger.info(\"List of topics:\")\n",
    "for topic in topics:\n",
    "    if unique_id in topic:\n",
    "        logger.info(f\"- {topic}\")"
   ]
  }
 ],
 "metadata": {
  "kernelspec": {
   "display_name": "Python 3",
   "language": "python",
   "name": "python3"
  },
  "language_info": {
   "codemirror_mode": {
    "name": "ipython",
    "version": 3
   },
   "file_extension": ".py",
   "mimetype": "text/x-python",
   "name": "python",
   "nbconvert_exporter": "python",
   "pygments_lexer": "ipython3",
   "version": "3.12.3"
  }
 },
 "nbformat": 4,
 "nbformat_minor": 2
}
